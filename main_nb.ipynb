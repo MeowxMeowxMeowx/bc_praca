{
 "cells": [
  {
   "cell_type": "code",
   "execution_count": null,
   "metadata": {},
   "outputs": [],
   "source": [
    "from setfit import SetFitModel, Trainer, TrainingArguments\n",
    "import pandas as pd \n",
    "from datasets import Dataset\n",
    "from sentence_transformers.losses import CosineSimilarityLoss\n",
    "from sklearn.linear_model import LinearRegression\n",
    "from io import StringIO\n",
    "import csv"
   ]
  },
  {
   "cell_type": "code",
   "execution_count": null,
   "metadata": {},
   "outputs": [],
   "source": [
    "df_train = pd.read_csv(\"/kaggle/input/data-nostop-lowercase/out_train_no_stop.csv\")\n",
    "df_test = pd.read_csv(\"/kaggle/input/data-nostop-lowercase/out_test_no_stop.csv\")\n"
   ]
  },
  {
   "cell_type": "code",
   "execution_count": null,
   "metadata": {},
   "outputs": [],
   "source": [
    "from sklearn.ensemble import RandomForestClassifier\n",
    "from sentence_transformers import SentenceTransformer\n",
    "from setfit import SetFitModel\n",
    "from sklearn.neighbors import KNeighborsClassifier\n",
    "from sklearn.ensemble import AdaBoostClassifier\n",
    "from sklearn.linear_model import LogisticRegression\n",
    "from sklearn.svm import SVC\n",
    "model_body = SentenceTransformer(\"kinit/slovakbert-sts-stsb\")\n",
    "model_head = SVC()\n",
    "model = SetFitModel(model_body, model_head)"
   ]
  },
  {
   "cell_type": "code",
   "execution_count": null,
   "metadata": {},
   "outputs": [],
   "source": [
    "output_dict = {}"
   ]
  },
  {
   "cell_type": "code",
   "execution_count": null,
   "metadata": {},
   "outputs": [],
   "source": [
    "for n_samples in [8,16,32,64]:\n",
    "    print(n_samples)\n",
    "    cat_splits = []\n",
    "    for i in range(6):\n",
    "        cat_splits.append(df_train[df_train[\"rating_int\"]==i].sample(n_samples,random_state=10))\n",
    "#         cat_splits.append(df_train[df_train[\"rating_int\"]==i].iloc[:n_samples,:])\n",
    "    new_df_train = pd.concat(cat_splits)\n",
    "    train_dataset = Dataset.from_pandas(new_df_train)\n",
    "    model.config = None\n",
    "    args = TrainingArguments(\n",
    "        batch_size=16,\n",
    "        num_epochs=1,\n",
    "\n",
    "    )\n",
    "    trainer = Trainer(\n",
    "        model = model,\n",
    "        args=args,\n",
    "        train_dataset=train_dataset,\n",
    "        column_mapping={\"comment\" : \"text\",\"rating_int\":\"label\"}\n",
    "    )\n",
    "    trainer.train()\n",
    "    x = trainer.evaluate(test_dataset)\n",
    "    output_dict[n_samples] = x[\"accuracy\"]\n",
    "    print(output_dict)"
   ]
  }
 ],
 "metadata": {
  "language_info": {
   "name": "python"
  }
 },
 "nbformat": 4,
 "nbformat_minor": 2
}
